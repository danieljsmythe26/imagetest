{
 "cells": [
  {
   "cell_type": "markdown",
   "metadata": {},
   "source": [
    "# Install the requirements.txt file"
   ]
  },
  {
   "cell_type": "markdown",
   "metadata": {},
   "source": [
    "Then, open up a new terminal window and navigate to your folder. Running pip install -r requirements.txt will make sure you download all required packages."
   ]
  },
  {
   "cell_type": "markdown",
   "metadata": {},
   "source": [
    "This is the code to deploy a simple streamlit app - this was for an image "
   ]
  },
  {
   "cell_type": "code",
   "execution_count": 7,
   "metadata": {},
   "outputs": [],
   "source": [
    "import streamlit as st\n",
    "\n",
    "## STREAMLIT\n",
    "from fastcore.all import *\n",
    "from fastai.vision.all import *\n",
    "import streamlit as st\n",
    "\n",
    "## LOAD MODEl\n",
    "learn_inf = load_learner(\"export.pkl\")\n",
    "## CLASSIFIER\n",
    "def classify_img(data):\n",
    "    pred, pred_idx, probs = learn_inf.predict(data)\n",
    "    return pred, probs[pred_idx]\n",
    "## STREAMLIT\n",
    "st.title(\"Bear Moustache Clean Shaven! \")\n",
    "bytes_data = None\n",
    "uploaded_image = st.file_uploader(\"Upload your facial hair:\")\n",
    "if uploaded_image:\n",
    "    bytes_data = uploaded_image.getvalue()\n",
    "    st.image(bytes_data, caption=\"Uploaded image\")   \n",
    "if bytes_data:\n",
    "    classify = st.button(\"CLASSIFY!\")\n",
    "    if classify:\n",
    "        label, confidence = classify_img(bytes_data)\n",
    "        st.write(f\"It is a {label}! ({confidence:.04f})\")"
   ]
  },
  {
   "cell_type": "markdown",
   "metadata": {},
   "source": [
    "### this is for some text "
   ]
  },
  {
   "cell_type": "code",
   "execution_count": null,
   "metadata": {},
   "outputs": [],
   "source": [
    "\n",
    "import streamlit as st\n",
    "from fastai.text.all import *\n",
    "\n",
    "## LOAD MODEL\n",
    "learn_inf = load_learner(\"export.pkl\")  # Ensure this model is trained for text classification\n",
    "\n",
    "## CLASSIFIER\n",
    "def classify_text(text):\n",
    "    pred, pred_idx, probs = learn_inf.predict(text)\n",
    "    return pred, probs[pred_idx]\n",
    "\n",
    "## STREAMLIT APP SETUP\n",
    "st.title(\"Beard Type Classifier\")\n",
    "input_text = st.text_area(\"Describe the facial hair:\")\n",
    "\n",
    "if st.button(\"CLASSIFY!\"):\n",
    "    if input_text:\n",
    "        label, confidence = classify_text(input_text)\n",
    "        st.write(f\"It is a {label}! (Confidence: {confidence:.04f})\")\n",
    "    else:\n",
    "        st.write(\"Please enter a description to classify.\")"
   ]
  }
 ],
 "metadata": {
  "kernelspec": {
   "display_name": "Python 3",
   "language": "python",
   "name": "python3"
  },
  "language_info": {
   "codemirror_mode": {
    "name": "ipython",
    "version": 3
   },
   "file_extension": ".py",
   "mimetype": "text/x-python",
   "name": "python",
   "nbconvert_exporter": "python",
   "pygments_lexer": "ipython3",
   "version": "3.9.6"
  }
 },
 "nbformat": 4,
 "nbformat_minor": 2
}
